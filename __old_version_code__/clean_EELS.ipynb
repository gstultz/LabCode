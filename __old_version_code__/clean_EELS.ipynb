{
 "cells": [
  {
   "cell_type": "code",
   "execution_count": 1,
   "metadata": {
    "collapsed": true
   },
   "outputs": [],
   "source": [
    "from CeyerLibrary import loadAuger, generateDict, index_of\n",
    "import numpy as np\n",
    "import pandas as pd\n",
    "import matplotlib.pyplot as plt\n",
    "import os\n",
    "%matplotlib inline\n",
    "\n",
    "monthDict = generateDict()  #Set up the dictionary\n",
    "meV_to_cm = 8.065"
   ]
  },
  {
   "cell_type": "code",
   "execution_count": 3,
   "metadata": {
    "collapsed": true
   },
   "outputs": [],
   "source": [
    "# Input file name and location\n",
    "filename = 'mar05_18.e01'"
   ]
  },
  {
   "cell_type": "code",
   "execution_count": 4,
   "metadata": {
    "collapsed": true
   },
   "outputs": [],
   "source": [
    "# Load Data\n",
    "filepath = os.path.join(os.path.expanduser('~'), 'Dropbox (MIT)', 'littlemachine', \n",
    "                        '20' + filename[6:8], monthDict[filename[:3]] + '_' + filename[:3], filename)\n",
    "f = open(filepath, 'r')\n",
    "data = f.readlines()\n",
    "f.close()"
   ]
  },
  {
   "cell_type": "code",
   "execution_count": null,
   "metadata": {},
   "outputs": [],
   "source": []
  },
  {
   "cell_type": "code",
   "execution_count": 15,
   "metadata": {},
   "outputs": [
    {
     "name": "stdout",
     "output_type": "stream",
     "text": [
      "oct26_17.e03 Success!\n"
     ]
    }
   ],
   "source": [
    "# Process Data\n",
    "if data[0].split()[0] == 'IGOR':\n",
    "    print('Data already processed!')\n",
    "else:\n",
    "    #voltage = [meV_to_cm * x for x in list(map(float, data[0].strip().split(',')[:-1]))]\n",
    "    voltage = [meV_to_cm * x for x in list(map(float, data[0].strip().split(',')))]\n",
    "\n",
    "    i = 1\n",
    "    while i < len(data) and data[i][0] != 'X':\n",
    "        i += 1\n",
    "    #counts = list(map(float, data[i - 1].strip().split(',')[:-1]))\n",
    "    counts = list(map(float, data[i - 1].strip().split(',')))\n",
    "    \n",
    "    file = open(filepath,'w')\n",
    "    file.write('IGOR\\nWaves Counts, Voltage\\nBegin\\n')\n",
    "    for c,v in zip(counts, voltage):\n",
    "        file.write('{}, {}\\n'.format(c, v))\n",
    "    file.write('End\\n')\n",
    "    while i < len(data):\n",
    "        file.write(data[i])\n",
    "        i += 1\n",
    "    file.close()\n",
    "    print(filename, 'Success!')"
   ]
  },
  {
   "cell_type": "code",
   "execution_count": null,
   "metadata": {
    "collapsed": true
   },
   "outputs": [],
   "source": []
  }
 ],
 "metadata": {
  "kernelspec": {
   "display_name": "Python 3",
   "language": "python",
   "name": "python3"
  },
  "language_info": {
   "codemirror_mode": {
    "name": "ipython",
    "version": 3
   },
   "file_extension": ".py",
   "mimetype": "text/x-python",
   "name": "python",
   "nbconvert_exporter": "python",
   "pygments_lexer": "ipython3",
   "version": "3.5.2"
  }
 },
 "nbformat": 4,
 "nbformat_minor": 2
}
