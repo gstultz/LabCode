{
 "cells": [
  {
   "cell_type": "code",
   "execution_count": 1,
   "metadata": {
    "collapsed": true
   },
   "outputs": [],
   "source": [
    "# This program performs the Auger fitting\n",
    "\n",
    "from CeyerLibrary import loadAuger, generateDict, index_of, derivativeGaussian\n",
    "import matplotlib.pyplot as plt\n",
    "\n",
    "# Set up the dictionary\n",
    "monthDict = generateDict()  "
   ]
  },
  {
   "cell_type": "code",
   "execution_count": 2,
   "metadata": {
    "collapsed": true
   },
   "outputs": [],
   "source": [
    "filename = 'aug17_17.a02'"
   ]
  },
  {
   "cell_type": "code",
   "execution_count": 3,
   "metadata": {
    "collapsed": false
   },
   "outputs": [],
   "source": [
    "import sys"
   ]
  },
  {
   "cell_type": "code",
   "execution_count": 4,
   "metadata": {
    "collapsed": false
   },
   "outputs": [
    {
     "data": {
      "text/plain": [
       "'darwin'"
      ]
     },
     "execution_count": 4,
     "metadata": {},
     "output_type": "execute_result"
    }
   ],
   "source": [
    "sys.platform"
   ]
  },
  {
   "cell_type": "code",
   "execution_count": 5,
   "metadata": {
    "collapsed": false
   },
   "outputs": [],
   "source": [
    "import os"
   ]
  },
  {
   "cell_type": "code",
   "execution_count": 6,
   "metadata": {
    "collapsed": false
   },
   "outputs": [
    {
     "name": "stdout",
     "output_type": "stream",
     "text": [
      "/Users/qingliu/Dropbox (MIT)/littlemachine/2017/08_aug/aug17_17.a02\n",
      "/Users/qingliu/Dropbox (MIT)/littlemachine/2017/08_aug/aug17_17.a02\n"
     ]
    }
   ],
   "source": [
    "# filefolder = '~/Dropbox (MIT)/littlemachine/'\n",
    "# filefolder = os.path.expanduser('~/Dropbox (MIT)/littlemachine/')\n",
    "filepath = os.path.join(os.path.expanduser('~'), 'Dropbox (MIT)', 'littlemachine', \n",
    "                                         '20' + filename[6:8], monthDict[filename[:3]] + '_' + \n",
    "                                         filename[:3], filename)\n",
    "print(filepath)\n",
    "filepath = os.path.normpath(filepath)\n",
    "print(filepath)\n",
    "filehandle = open(filepath)\n",
    "data = loadAuger(filepath)\n",
    "\n",
    "counts = data[:,1]\n",
    "energy = data[:,0]\n",
    "\n",
    "ix1 = index_of(energy, 52) + 1 # index_of return index of array *at or below* value, +1 here\n",
    "ix2 = index_of(energy, 72) + 1\n",
    "\n",
    "x = energy[ix1:ix2]\n",
    "y = counts[ix1:ix2]"
   ]
  },
  {
   "cell_type": "code",
   "execution_count": 7,
   "metadata": {
    "collapsed": false
   },
   "outputs": [
    {
     "data": {
      "text/plain": [
       "[<matplotlib.lines.Line2D at 0x116beffd0>]"
      ]
     },
     "execution_count": 7,
     "metadata": {},
     "output_type": "execute_result"
    },
    {
     "data": {
      "image/png": "[encoded data removed]",
      "text/plain": [
       "<matplotlib.figure.Figure at 0x105f15978>"
      ]
     },
     "metadata": {},
     "output_type": "display_data"
    }
   ],
   "source": [
    "%matplotlib inline\n",
    "plt.plot(x, y)"
   ]
  },
  {
   "cell_type": "code",
   "execution_count": null,
   "metadata": {
    "collapsed": true
   },
   "outputs": [],
   "source": []
  },
  {
   "cell_type": "code",
   "execution_count": null,
   "metadata": {
    "collapsed": true
   },
   "outputs": [],
   "source": []
  }
 ],
 "metadata": {
  "kernelspec": {
   "display_name": "Python 3",
   "language": "python",
   "name": "python3"
  },
  "language_info": {
   "codemirror_mode": {
    "name": "ipython",
    "version": 3
   },
   "file_extension": ".py",
   "mimetype": "text/x-python",
   "name": "python",
   "nbconvert_exporter": "python",
   "pygments_lexer": "ipython3",
   "version": "3.5.2"
  }
 },
 "nbformat": 4,
 "nbformat_minor": 2
}
