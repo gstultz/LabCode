{
 "cells": [
  {
   "cell_type": "code",
   "execution_count": 1,
   "metadata": {
    "collapsed": false
   },
   "outputs": [],
   "source": [
    "from CeyerLibrary import loadAuger, generateDict, index_of\n",
    "import numpy as np\n",
    "import pandas as pd\n",
    "import matplotlib.pyplot as plt\n",
    "%matplotlib inline\n",
    "\n",
    "monthDict = generateDict()  #Set up the dictionary"
   ]
  },
  {
   "cell_type": "code",
   "execution_count": 2,
   "metadata": {
    "collapsed": false
   },
   "outputs": [],
   "source": [
    "# Input file name and location\n",
    "mainpath = '/Users/qingliu/Dropbox (MIT)/littlemachine/'\n",
    "filename = 'jun02_17.a02'"
   ]
  },
  {
   "cell_type": "code",
   "execution_count": 3,
   "metadata": {
    "collapsed": false
   },
   "outputs": [],
   "source": [
    "# Load Data\n",
    "filepath = mainpath + '20' + filename[6:8] + '/' + monthDict[filename[:3]] + '_' + filename[:3] + '/' + filename\n",
    "f = open(filepath, 'r')\n",
    "data = f.readlines()\n",
    "f.close()"
   ]
  },
  {
   "cell_type": "code",
   "execution_count": 4,
   "metadata": {
    "collapsed": false
   },
   "outputs": [
    {
     "name": "stdout",
     "output_type": "stream",
     "text": [
      "('jun02_17.a02', 'Success!')\n"
     ]
    }
   ],
   "source": [
    "# Process Data\n",
    "if data[0].split()[0] == 'IGOR':\n",
    "    print('Data already processed!')\n",
    "else:\n",
    "    scan = 65\n",
    "    i = 0\n",
    "    file = open(filepath,'w')\n",
    "    file.write('IGOR\\nWaves Voltage' + chr(scan) + ', Auger' + chr(scan) +'\\nBegin\\n')\n",
    "    curr_energy = list(map(float, data[i].split()))[0]\n",
    "    \n",
    "    while i < len(data) - 1:\n",
    "        next_energy = list(map(float, data[i + 1].split()))[0]\n",
    "        if abs(curr_energy - next_energy) > 0.1:\n",
    "            file.write(data[i])\n",
    "            if abs(curr_energy - next_energy) > 0.5:\n",
    "                scan += 1\n",
    "                file.write('End\\n\\nWaves Voltage' + chr(scan) + ', Auger' + chr(scan) +'\\nBegin\\n')\n",
    "        curr_energy = next_energy\n",
    "        i += 1\n",
    "    file.write(data[i] + 'End\\n')\n",
    "    file.close()\n",
    "    print(filename, 'Success!')"
   ]
  },
  {
   "cell_type": "code",
   "execution_count": 5,
   "metadata": {
    "collapsed": false
   },
   "outputs": [
    {
     "data": {
      "text/plain": [
       "[<matplotlib.lines.Line2D at 0x116c219d0>]"
      ]
     },
     "execution_count": 5,
     "metadata": {},
     "output_type": "execute_result"
    },
    {
     "data": {
      "image/png": "[encoded data removed]",
      "text/plain": [
       "<matplotlib.figure.Figure at 0x11482add0>"
      ]
     },
     "metadata": {},
     "output_type": "display_data"
    }
   ],
   "source": [
    "filehandle = open(filepath)\n",
    "data = loadAuger(filepath)\n",
    "\n",
    "#%% Normalize data\n",
    "energy = data[:,1]\n",
    "counts = data[:,0]\n",
    "#counts = counts/max(counts)*10000\n",
    "plt.plot(counts,energy)"
   ]
  },
  {
   "cell_type": "code",
   "execution_count": 6,
   "metadata": {
    "collapsed": false
   },
   "outputs": [
    {
     "data": {
      "text/plain": [
       "'D'"
      ]
     },
     "execution_count": 6,
     "metadata": {},
     "output_type": "execute_result"
    }
   ],
   "source": [
    "chr(scan)"
   ]
  },
  {
   "cell_type": "code",
   "execution_count": null,
   "metadata": {
    "collapsed": true
   },
   "outputs": [],
   "source": []
  }
 ],
 "metadata": {
  "kernelspec": {
   "display_name": "Python 2",
   "language": "python",
   "name": "python2"
  },
  "language_info": {
   "codemirror_mode": {
    "name": "ipython",
    "version": 2
   },
   "file_extension": ".py",
   "mimetype": "text/x-python",
   "name": "python",
   "nbconvert_exporter": "python",
   "pygments_lexer": "ipython2",
   "version": "2.7.11"
  }
 },
 "nbformat": 4,
 "nbformat_minor": 2
}
