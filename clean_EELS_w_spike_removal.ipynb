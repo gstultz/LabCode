{
 "cells": [
  {
   "cell_type": "code",
   "execution_count": 1,
   "metadata": {
    "collapsed": true
   },
   "outputs": [],
   "source": [
    "from CeyerLibrary import generateDict\n",
    "import numpy as np\n",
    "import pandas as pd\n",
    "import matplotlib.pyplot as plt\n",
    "%matplotlib inline\n",
    "\n",
    "monthDict = generateDict()  #Set up the dictionary\n",
    "meV_to_cm = 8.065"
   ]
  },
  {
   "cell_type": "code",
   "execution_count": 2,
   "metadata": {
    "collapsed": true
   },
   "outputs": [],
   "source": [
    "# Input file name and location\n",
    "mainpath = '/Users/qingliu/Dropbox (MIT)/littlemachine/'\n",
    "filename = 'jul03_17.e04'\n",
    "# spike_removal = True\n",
    "spike_removal = False\n",
    "ymax_for_plot = 30"
   ]
  },
  {
   "cell_type": "code",
   "execution_count": 3,
   "metadata": {
    "collapsed": true
   },
   "outputs": [],
   "source": [
    "# Load Data\n",
    "filepath = mainpath + '20' + filename[6:8] + '/' + monthDict[filename[:3]] + '_' + filename[:3] + '/' + filename\n",
    "f = open(filepath, 'r')\n",
    "data = f.readlines()\n",
    "f.close()\n",
    "df = pd.read_csv(filepath, comment='X')"
   ]
  },
  {
   "cell_type": "code",
   "execution_count": 4,
   "metadata": {
    "collapsed": false
   },
   "outputs": [
    {
     "data": {
      "image/png": "[encoded data removed]",
      "text/plain": [
       "<matplotlib.figure.Figure at 0x10d101e10>"
      ]
     },
     "metadata": {},
     "output_type": "display_data"
    }
   ],
   "source": [
    "finish_flag = False\n",
    "if data[0].split()[0] == 'IGOR':\n",
    "    print(filename, 'already processed!')\n",
    "    finish_flag = True\n",
    "else:\n",
    "    df.iloc[-1].plot(ylim=(0, ymax_for_plot), grid=True, figsize=(8, 6))"
   ]
  },
  {
   "cell_type": "code",
   "execution_count": 5,
   "metadata": {
    "collapsed": true
   },
   "outputs": [],
   "source": [
    "def get_counts_n_voltage(df, spike_removal):\n",
    "    if spike_removal == True:\n",
    "        threshold = df.max() > 30 * df.mean()\n",
    "        print(sum(threshold), 'spikes found at the following locations:')\n",
    "        spike_location = df.idxmax()[threshold]\n",
    "        for energy, row in spike_location.iteritems():\n",
    "            print(energy)\n",
    "            df.loc[row][energy] = 0\n",
    "        df.iloc[-1] = df.iloc[:-1].mean()\n",
    "    voltage = meV_to_cm * df.columns.values.astype('float')\n",
    "    counts = df.iloc[-1].values\n",
    "    return counts, voltage"
   ]
  },
  {
   "cell_type": "code",
   "execution_count": 6,
   "metadata": {
    "collapsed": false
   },
   "outputs": [
    {
     "name": "stdout",
     "output_type": "stream",
     "text": [
      "jul03_17.e04 Success!\n"
     ]
    }
   ],
   "source": [
    "# Process Data\n",
    "if finish_flag == False:\n",
    "    file = open(filepath,'w')\n",
    "    file.write('IGOR\\nWaves Counts, Voltage\\nBegin\\n')\n",
    "    counts, voltage = get_counts_n_voltage(df, spike_removal)\n",
    "    for c,v in zip(counts, voltage):\n",
    "        file.write('{0:.3f}, {1:.3f}\\n'.format(c, v))\n",
    "    file.write('End\\n')\n",
    "    \n",
    "    i = df.iloc[-1].name + 2\n",
    "    while i < len(data):\n",
    "        file.write(data[i])\n",
    "        i += 1\n",
    "    file.close()\n",
    "    print(filename, 'Success!')"
   ]
  },
  {
   "cell_type": "code",
   "execution_count": 7,
   "metadata": {
    "collapsed": false
   },
   "outputs": [],
   "source": [
    "# Plot after spike removal\n",
    "if finish_flag == False and spike_removal == True: \n",
    "    df.iloc[-1].plot(ylim=(0, ymax_for_plot), grid=True, figsize=(8, 6))"
   ]
  },
  {
   "cell_type": "code",
   "execution_count": null,
   "metadata": {
    "collapsed": true
   },
   "outputs": [],
   "source": []
  },
  {
   "cell_type": "code",
   "execution_count": null,
   "metadata": {
    "collapsed": true
   },
   "outputs": [],
   "source": []
  }
 ],
 "metadata": {
  "kernelspec": {
   "display_name": "Python 3",
   "language": "python",
   "name": "python3"
  },
  "language_info": {
   "codemirror_mode": {
    "name": "ipython",
    "version": 3
   },
   "file_extension": ".py",
   "mimetype": "text/x-python",
   "name": "python",
   "nbconvert_exporter": "python",
   "pygments_lexer": "ipython3",
   "version": "3.5.2"
  }
 },
 "nbformat": 4,
 "nbformat_minor": 2
}
