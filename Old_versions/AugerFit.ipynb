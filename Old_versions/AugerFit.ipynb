{
 "cells": [
  {
   "cell_type": "code",
   "execution_count": 1,
   "metadata": {
    "collapsed": true
   },
   "outputs": [],
   "source": [
    "# This program performs the Auger fitting\n",
    "\n",
    "from CeyerLibrary import loadAuger, generateDict, index_of, derivativeGaussian\n",
    "from lmfit import Model\n",
    "from lmfit.models import LinearModel, GaussianModel, LorentzianModel, ExponentialModel, VoigtModel\n",
    "import matplotlib.pyplot as plt\n",
    "from matplotlib.backends.backend_pdf import PdfPages\n",
    "\n",
    "# Set up the dictionary\n",
    "monthDict = generateDict()  "
   ]
  },
  {
   "cell_type": "code",
   "execution_count": 2,
   "metadata": {
    "collapsed": true
   },
   "outputs": [],
   "source": [
    "# Important Parameters\n",
    "\n",
    "filename = 'sep28_17.a02'"
   ]
  },
  {
   "cell_type": "code",
   "execution_count": 5,
   "metadata": {
    "collapsed": false
   },
   "outputs": [],
   "source": [
    "#%% Import and clean data\n",
    "filefolder = '/Users/qingliu/Dropbox (MIT)/littlemachine/'\n",
    "filepath = filefolder + '20' + filename[6:8] + '/' + monthDict[filename[:3]] + '_' + filename[:3] + '/' + filename\n",
    "filehandle = open(filepath)\n",
    "data = loadAuger(filepath)\n",
    "\n",
    "counts = data[:,1]\n",
    "energy = data[:,0]\n",
    "\n",
    "ix1 = index_of(energy, 52) + 1 # index_of return index of array *at or below* value, +1 here\n",
    "ix2 = index_of(energy, 72) + 1\n",
    "\n",
    "x = energy[ix1:ix2]\n",
    "y = counts[ix1:ix2]\n",
    "\n"
   ]
  },
  {
   "cell_type": "code",
   "execution_count": 6,
   "metadata": {
    "collapsed": true
   },
   "outputs": [],
   "source": [
    "#%% Constuct fitting model\n",
    "background  = LinearModel()\n",
    "\n",
    "pars = background.make_params()\n",
    "pars['slope'].set(0, min = -1e-12, max = 1e-16)\n",
    "pars['intercept'].set(0, min = -3, max = 5)\n",
    "\n",
    "featureNi = Model(derivativeGaussian, prefix = 'Ni_')\n",
    "\n",
    "pars.update(featureNi.make_params())\n",
    "pars['Ni_cen'].set(55, min=53, max=65)\n",
    "pars['Ni_wid'].set(3, min=2, max = 10)\n",
    "pars['Ni_amp'].set(5, min=0, max = 10)\n",
    "\n",
    "featureAu = Model(derivativeGaussian, prefix = 'Au_')\n",
    "\n",
    "pars.update(featureAu.make_params())\n",
    "pars['Au_cen'].set(67, min=60, max=75)\n",
    "pars['Au_wid'].set(3, min=2, max = 10)\n",
    "pars['Au_amp'].set(5, min=0, max = 10)\n",
    "\n",
    "model = background + featureNi + featureAu"
   ]
  },
  {
   "cell_type": "code",
   "execution_count": 7,
   "metadata": {
    "collapsed": false
   },
   "outputs": [
    {
     "name": "stderr",
     "output_type": "stream",
     "text": [
      "/Users/qingliu/anaconda/envs/py35/lib/python3.5/site-packages/lmfit/printfuncs.py:140: RuntimeWarning: invalid value encountered in double_scalars\n",
      "  spercent = '({0:.2%})'.format(abs(par.stderr/par.value))\n"
     ]
    },
    {
     "name": "stdout",
     "output_type": "stream",
     "text": [
      "[[Model]]\n",
      "    ((Model(linear) + Model(derivativeGaussian, prefix='Ni_')) + Model(derivativeGaussian, prefix='Au_'))\n",
      "[[Fit Statistics]]\n",
      "    # function evals   = 66\n",
      "    # data points      = 65\n",
      "    # variables        = 8\n",
      "    chi-square         = 0.005\n",
      "    reduced chi-square = 0.000\n",
      "    Akaike info crit   = -600.018\n",
      "    Bayesian info crit = -582.623\n",
      "[[Variables]]\n",
      "    intercept:   1.95684044 +/- 0        (0.00%) (init= 0)\n",
      "    slope:       0          +/- 0        (nan%) (init= 0)\n",
      "    Ni_amp:      0.14442082 +/- 0        (0.00%) (init= 5)\n",
      "    Ni_cen:      56.7498026 +/- 0        (0.00%) (init= 55)\n",
      "    Ni_wid:      3.88357204 +/- 0        (0.00%) (init= 3)\n",
      "    Au_amp:      0.09721283 +/- 0        (0.00%) (init= 5)\n",
      "    Au_cen:      66.9406274 +/- 0        (0.00%) (init= 67)\n",
      "    Au_wid:      3.33695631 +/- 0        (0.00%) (init= 3)\n",
      "\n"
     ]
    },
    {
     "data": {
      "image/png": "[encoded data removed]",
      "text/plain": [
       "<matplotlib.figure.Figure at 0x117fe6710>"
      ]
     },
     "metadata": {},
     "output_type": "display_data"
    }
   ],
   "source": [
    "#%% Curve fitting \n",
    "result  = model.fit(y, pars, x=x)\n",
    "\n",
    "#%% Print fitting results\n",
    "print(result.fit_report(min_correl=0.25))\n",
    "\n",
    "#%% Plot fitting results\n",
    "fig = plt.figure(figsize=(12,6))\n",
    "plt.plot(x, y, 'bo', markersize = 4)\n",
    "plt.plot(x, result.best_fit, 'r-')\n",
    "plt.xlabel('wavenumber (cm-1)')\n",
    "plt.ylabel('counts')\n",
    "plt.xlim(min(x), max(x))\n",
    "plt.show()\n",
    "\n"
   ]
  },
  {
   "cell_type": "code",
   "execution_count": null,
   "metadata": {
    "collapsed": false
   },
   "outputs": [],
   "source": []
  },
  {
   "cell_type": "code",
   "execution_count": 8,
   "metadata": {
    "collapsed": true
   },
   "outputs": [],
   "source": [
    "\n",
    "#%% Export results to PDF \n",
    "#pp = PdfPages('multipage.pdf')\n",
    "#pp.savefig(fig)\n",
    "#\n",
    "#pp.close()"
   ]
  },
  {
   "cell_type": "code",
   "execution_count": null,
   "metadata": {
    "collapsed": true
   },
   "outputs": [],
   "source": []
  }
 ],
 "metadata": {
  "kernelspec": {
   "display_name": "Python 3",
   "language": "python",
   "name": "python3"
  },
  "language_info": {
   "codemirror_mode": {
    "name": "ipython",
    "version": 3
   },
   "file_extension": ".py",
   "mimetype": "text/x-python",
   "name": "python",
   "nbconvert_exporter": "python",
   "pygments_lexer": "ipython3",
   "version": "3.5.2"
  }
 },
 "nbformat": 4,
 "nbformat_minor": 2
}
